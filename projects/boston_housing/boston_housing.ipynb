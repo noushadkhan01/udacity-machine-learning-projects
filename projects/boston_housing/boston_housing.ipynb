{
  "nbformat": 4,
  "nbformat_minor": 0,
  "metadata": {
    "colab": {
      "name": "boston_housing.ipynb",
      "version": "0.3.2",
      "provenance": [],
      "include_colab_link": true
    },
    "language_info": {
      "codemirror_mode": {
        "name": "ipython",
        "version": 3
      },
      "file_extension": ".py",
      "mimetype": "text/x-python",
      "name": "python",
      "nbconvert_exporter": "python",
      "pygments_lexer": "ipython3",
      "version": "3.6.5"
    },
    "kernelspec": {
      "display_name": "Python 3",
      "language": "python",
      "name": "python3"
    }
  },
  "cells": [
    {
      "cell_type": "markdown",
      "metadata": {
        "id": "view-in-github",
        "colab_type": "text"
      },
      "source": [
        "<a href=\"https://colab.research.google.com/github/noushadkhan01/udacity-machine-learning-projects/blob/master/projects/boston_housing/boston_housing.ipynb\" target=\"_parent\"><img src=\"https://colab.research.google.com/assets/colab-badge.svg\" alt=\"Open In Colab\"/></a>"
      ]
    },
    {
      "cell_type": "markdown",
      "metadata": {
        "id": "NisuHXUF6Qet",
        "colab_type": "text"
      },
      "source": [
        "# Machine Learning Engineer Nanodegree\n",
        "## Model Evaluation & Validation\n",
        "## Project: Predicting Boston Housing Prices\n",
        "\n",
        "Welcome to the first project of the Machine Learning Engineer Nanodegree! In this notebook, some template code has already been provided for you, and you will need to implement additional functionality to successfully complete this project. You will not need to modify the included code beyond what is requested. Sections that begin with **'Implementation'** in the header indicate that the following block of code will require additional functionality which you must provide. Instructions will be provided for each section and the specifics of the implementation are marked in the code block with a 'TODO' statement. Please be sure to read the instructions carefully!\n",
        "\n",
        "In addition to implementing code, there will be questions that you must answer which relate to the project and your implementation. Each section where you will answer a question is preceded by a **'Question X'** header. Carefully read each question and provide thorough answers in the following text boxes that begin with **'Answer:'**. Your project submission will be evaluated based on your answers to each of the questions and the implementation you provide.  \n",
        "\n",
        ">**Note:** Code and Markdown cells can be executed using the **Shift + Enter** keyboard shortcut. In addition, Markdown cells can be edited by typically double-clicking the cell to enter edit mode."
      ]
    },
    {
      "cell_type": "markdown",
      "metadata": {
        "id": "bLpMWooW6Qe2",
        "colab_type": "text"
      },
      "source": [
        "## Getting Started\n",
        "In this project, you will evaluate the performance and predictive power of a model that has been trained and tested on data collected from homes in suburbs of Boston, Massachusetts. A model trained on this data that is seen as a *good fit* could then be used to make certain predictions about a home — in particular, its monetary value. This model would prove to be invaluable for someone like a real estate agent who could make use of such information on a daily basis.\n",
        "\n",
        "The dataset for this project originates from the [UCI Machine Learning Repository](https://archive.ics.uci.edu/ml/datasets/Housing). The Boston housing data was collected in 1978 and each of the 506 entries represent aggregated data about 14 features for homes from various suburbs in Boston, Massachusetts. For the purposes of this project, the following preprocessing steps have been made to the dataset:\n",
        "- 16 data points have an `'MEDV'` value of 50.0. These data points likely contain **missing or censored values** and have been removed.\n",
        "- 1 data point has an `'RM'` value of 8.78. This data point can be considered an **outlier** and has been removed.\n",
        "- The features `'RM'`, `'LSTAT'`, `'PTRATIO'`, and `'MEDV'` are essential. The remaining **non-relevant features** have been excluded.\n",
        "- The feature `'MEDV'` has been **multiplicatively scaled** to account for 35 years of market inflation.\n",
        "\n",
        "Run the code cell below to load the Boston housing dataset, along with a few of the necessary Python libraries required for this project. You will know the dataset loaded successfully if the size of the dataset is reported."
      ]
    },
    {
      "cell_type": "code",
      "metadata": {
        "id": "uRVu2_Rj6aiO",
        "colab_type": "code",
        "outputId": "51d3eb98-a12c-4021-bc36-07055a2edb59",
        "colab": {
          "base_uri": "https://localhost:8080/",
          "height": 187
        }
      },
      "source": [
        "!git clone https://github.com/noushadkhan01/udacity-machine-learning-projects.git\n",
        "%cd udacity-machine-learning-projects/projects/boston_housing/\n",
        "!ls"
      ],
      "execution_count": 2,
      "outputs": [
        {
          "output_type": "stream",
          "text": [
            "Cloning into 'udacity-machine-learning-projects'...\n",
            "remote: Enumerating objects: 5, done.\u001b[K\n",
            "remote: Counting objects:  20% (1/5)   \u001b[K\rremote: Counting objects:  40% (2/5)   \u001b[K\rremote: Counting objects:  60% (3/5)   \u001b[K\rremote: Counting objects:  80% (4/5)   \u001b[K\rremote: Counting objects: 100% (5/5)   \u001b[K\rremote: Counting objects: 100% (5/5), done.\u001b[K\n",
            "remote: Compressing objects: 100% (5/5), done.\u001b[K\n",
            "remote: Total 1977 (delta 0), reused 0 (delta 0), pack-reused 1972\u001b[K\n",
            "Receiving objects: 100% (1977/1977), 35.59 MiB | 30.73 MiB/s, done.\n",
            "Resolving deltas: 100% (1078/1078), done.\n",
            "/content/udacity-machine-learning-projects/projects/boston_housing\n",
            "boston_housing.ipynb  project_description.md  visuals.py\n",
            "housing.csv\t      README.md\n"
          ],
          "name": "stdout"
        }
      ]
    },
    {
      "cell_type": "code",
      "metadata": {
        "id": "fO_rddN56Qe5",
        "colab_type": "code",
        "outputId": "6753affb-449b-4268-c443-71475bc0bc6b",
        "colab": {
          "base_uri": "https://localhost:8080/",
          "height": 34
        }
      },
      "source": [
        "# Import libraries necessary for this project\n",
        "import numpy as np\n",
        "import pandas as pd\n",
        "from sklearn.model_selection import ShuffleSplit\n",
        "\n",
        "# Import supplementary visualizations code visuals.py\n",
        "import visuals as vs\n",
        "\n",
        "# Pretty display for notebooks\n",
        "%matplotlib inline\n",
        "\n",
        "# Load the Boston housing dataset\n",
        "data = pd.read_csv('housing.csv')\n",
        "prices = data['MEDV']\n",
        "features = data.drop('MEDV', axis = 1)\n",
        "    \n",
        "# Success\n",
        "print(\"Boston housing dataset has {} data points with {} variables each.\".format(*data.shape))"
      ],
      "execution_count": 3,
      "outputs": [
        {
          "output_type": "stream",
          "text": [
            "Boston housing dataset has 489 data points with 4 variables each.\n"
          ],
          "name": "stdout"
        }
      ]
    },
    {
      "cell_type": "code",
      "metadata": {
        "id": "ZgbEqNmf6-0P",
        "colab_type": "code",
        "outputId": "a04db387-cb76-4c24-b47e-4720cd04ede9",
        "colab": {
          "base_uri": "https://localhost:8080/",
          "height": 204
        }
      },
      "source": [
        "data.head()"
      ],
      "execution_count": 4,
      "outputs": [
        {
          "output_type": "execute_result",
          "data": {
            "text/html": [
              "<div>\n",
              "<style scoped>\n",
              "    .dataframe tbody tr th:only-of-type {\n",
              "        vertical-align: middle;\n",
              "    }\n",
              "\n",
              "    .dataframe tbody tr th {\n",
              "        vertical-align: top;\n",
              "    }\n",
              "\n",
              "    .dataframe thead th {\n",
              "        text-align: right;\n",
              "    }\n",
              "</style>\n",
              "<table border=\"1\" class=\"dataframe\">\n",
              "  <thead>\n",
              "    <tr style=\"text-align: right;\">\n",
              "      <th></th>\n",
              "      <th>RM</th>\n",
              "      <th>LSTAT</th>\n",
              "      <th>PTRATIO</th>\n",
              "      <th>MEDV</th>\n",
              "    </tr>\n",
              "  </thead>\n",
              "  <tbody>\n",
              "    <tr>\n",
              "      <th>0</th>\n",
              "      <td>6.575</td>\n",
              "      <td>4.98</td>\n",
              "      <td>15.3</td>\n",
              "      <td>504000.0</td>\n",
              "    </tr>\n",
              "    <tr>\n",
              "      <th>1</th>\n",
              "      <td>6.421</td>\n",
              "      <td>9.14</td>\n",
              "      <td>17.8</td>\n",
              "      <td>453600.0</td>\n",
              "    </tr>\n",
              "    <tr>\n",
              "      <th>2</th>\n",
              "      <td>7.185</td>\n",
              "      <td>4.03</td>\n",
              "      <td>17.8</td>\n",
              "      <td>728700.0</td>\n",
              "    </tr>\n",
              "    <tr>\n",
              "      <th>3</th>\n",
              "      <td>6.998</td>\n",
              "      <td>2.94</td>\n",
              "      <td>18.7</td>\n",
              "      <td>701400.0</td>\n",
              "    </tr>\n",
              "    <tr>\n",
              "      <th>4</th>\n",
              "      <td>7.147</td>\n",
              "      <td>5.33</td>\n",
              "      <td>18.7</td>\n",
              "      <td>760200.0</td>\n",
              "    </tr>\n",
              "  </tbody>\n",
              "</table>\n",
              "</div>"
            ],
            "text/plain": [
              "      RM  LSTAT  PTRATIO      MEDV\n",
              "0  6.575   4.98     15.3  504000.0\n",
              "1  6.421   9.14     17.8  453600.0\n",
              "2  7.185   4.03     17.8  728700.0\n",
              "3  6.998   2.94     18.7  701400.0\n",
              "4  7.147   5.33     18.7  760200.0"
            ]
          },
          "metadata": {
            "tags": []
          },
          "execution_count": 4
        }
      ]
    },
    {
      "cell_type": "code",
      "metadata": {
        "id": "Pe2vCcGV7J3f",
        "colab_type": "code",
        "outputId": "a19e74ee-e36d-4d9e-e6a1-e0ecd7cb3a9b",
        "colab": {
          "base_uri": "https://localhost:8080/",
          "height": 170
        }
      },
      "source": [
        "data.info()"
      ],
      "execution_count": 0,
      "outputs": [
        {
          "output_type": "stream",
          "text": [
            "<class 'pandas.core.frame.DataFrame'>\n",
            "RangeIndex: 489 entries, 0 to 488\n",
            "Data columns (total 4 columns):\n",
            "RM         489 non-null float64\n",
            "LSTAT      489 non-null float64\n",
            "PTRATIO    489 non-null float64\n",
            "MEDV       489 non-null float64\n",
            "dtypes: float64(4)\n",
            "memory usage: 15.4 KB\n"
          ],
          "name": "stdout"
        }
      ]
    },
    {
      "cell_type": "code",
      "metadata": {
        "id": "91Rd-2Ie7W5z",
        "colab_type": "code",
        "colab": {}
      },
      "source": [
        "import seaborn as sns"
      ],
      "execution_count": 0,
      "outputs": []
    },
    {
      "cell_type": "markdown",
      "metadata": {
        "id": "Co7wVCKn7ZF0",
        "colab_type": "text"
      },
      "source": [
        "##correlation bw all variables with matrix plot"
      ]
    },
    {
      "cell_type": "code",
      "metadata": {
        "id": "TuhGpiHy7eJA",
        "colab_type": "code",
        "outputId": "34beb05c-a0fa-4662-c216-3e2c6dda95d1",
        "colab": {
          "base_uri": "https://localhost:8080/",
          "height": 286
        }
      },
      "source": [
        "sns.heatmap(data.corr(), annot = True, lw = 2)"
      ],
      "execution_count": 0,
      "outputs": [
        {
          "output_type": "execute_result",
          "data": {
            "text/plain": [
              "<matplotlib.axes._subplots.AxesSubplot at 0x7f86704180b8>"
            ]
          },
          "metadata": {
            "tags": []
          },
          "execution_count": 7
        },
        {
          "output_type": "display_data",
          "data": {
            "image/png": "[encoded data removed]",
            "text/plain": [
              "<Figure size 432x288 with 2 Axes>"
            ]
          },
          "metadata": {
            "tags": []
          }
        }
      ]
    },
    {
      "cell_type": "code",
      "metadata": {
        "id": "YadZ5ywk73RT",
        "colab_type": "code",
        "outputId": "f4651e40-18e4-426a-ac9e-3e7b6ecb8fa3",
        "colab": {
          "base_uri": "https://localhost:8080/",
          "height": 297
        }
      },
      "source": [
        "data.describe()"
      ],
      "execution_count": 0,
      "outputs": [
        {
          "output_type": "execute_result",
          "data": {
            "text/html": [
              "<div>\n",
              "<style scoped>\n",
              "    .dataframe tbody tr th:only-of-type {\n",
              "        vertical-align: middle;\n",
              "    }\n",
              "\n",
              "    .dataframe tbody tr th {\n",
              "        vertical-align: top;\n",
              "    }\n",
              "\n",
              "    .dataframe thead th {\n",
              "        text-align: right;\n",
              "    }\n",
              "</style>\n",
              "<table border=\"1\" class=\"dataframe\">\n",
              "  <thead>\n",
              "    <tr style=\"text-align: right;\">\n",
              "      <th></th>\n",
              "      <th>RM</th>\n",
              "      <th>LSTAT</th>\n",
              "      <th>PTRATIO</th>\n",
              "      <th>MEDV</th>\n",
              "    </tr>\n",
              "  </thead>\n",
              "  <tbody>\n",
              "    <tr>\n",
              "      <th>count</th>\n",
              "      <td>489.000000</td>\n",
              "      <td>489.000000</td>\n",
              "      <td>489.000000</td>\n",
              "      <td>4.890000e+02</td>\n",
              "    </tr>\n",
              "    <tr>\n",
              "      <th>mean</th>\n",
              "      <td>6.240288</td>\n",
              "      <td>12.939632</td>\n",
              "      <td>18.516564</td>\n",
              "      <td>4.543429e+05</td>\n",
              "    </tr>\n",
              "    <tr>\n",
              "      <th>std</th>\n",
              "      <td>0.643650</td>\n",
              "      <td>7.081990</td>\n",
              "      <td>2.111268</td>\n",
              "      <td>1.653403e+05</td>\n",
              "    </tr>\n",
              "    <tr>\n",
              "      <th>min</th>\n",
              "      <td>3.561000</td>\n",
              "      <td>1.980000</td>\n",
              "      <td>12.600000</td>\n",
              "      <td>1.050000e+05</td>\n",
              "    </tr>\n",
              "    <tr>\n",
              "      <th>25%</th>\n",
              "      <td>5.880000</td>\n",
              "      <td>7.370000</td>\n",
              "      <td>17.400000</td>\n",
              "      <td>3.507000e+05</td>\n",
              "    </tr>\n",
              "    <tr>\n",
              "      <th>50%</th>\n",
              "      <td>6.185000</td>\n",
              "      <td>11.690000</td>\n",
              "      <td>19.100000</td>\n",
              "      <td>4.389000e+05</td>\n",
              "    </tr>\n",
              "    <tr>\n",
              "      <th>75%</th>\n",
              "      <td>6.575000</td>\n",
              "      <td>17.120000</td>\n",
              "      <td>20.200000</td>\n",
              "      <td>5.187000e+05</td>\n",
              "    </tr>\n",
              "    <tr>\n",
              "      <th>max</th>\n",
              "      <td>8.398000</td>\n",
              "      <td>37.970000</td>\n",
              "      <td>22.000000</td>\n",
              "      <td>1.024800e+06</td>\n",
              "    </tr>\n",
              "  </tbody>\n",
              "</table>\n",
              "</div>"
            ],
            "text/plain": [
              "               RM       LSTAT     PTRATIO          MEDV\n",
              "count  489.000000  489.000000  489.000000  4.890000e+02\n",
              "mean     6.240288   12.939632   18.516564  4.543429e+05\n",
              "std      0.643650    7.081990    2.111268  1.653403e+05\n",
              "min      3.561000    1.980000   12.600000  1.050000e+05\n",
              "25%      5.880000    7.370000   17.400000  3.507000e+05\n",
              "50%      6.185000   11.690000   19.100000  4.389000e+05\n",
              "75%      6.575000   17.120000   20.200000  5.187000e+05\n",
              "max      8.398000   37.970000   22.000000  1.024800e+06"
            ]
          },
          "metadata": {
            "tags": []
          },
          "execution_count": 8
        }
      ]
    },
    {
      "cell_type": "markdown",
      "metadata": {
        "id": "o5-FwPqL6Qfd",
        "colab_type": "text"
      },
      "source": [
        "## Data Exploration\n",
        "In this first section of this project, you will make a cursory investigation about the Boston housing data and provide your observations. Familiarizing yourself with the data through an explorative process is a fundamental practice to help you better understand and justify your results.\n",
        "\n",
        "Since the main goal of this project is to construct a working model which has the capability of predicting the value of houses, we will need to separate the dataset into **features** and the **target variable**. The **features**, `'RM'`, `'LSTAT'`, and `'PTRATIO'`, give us quantitative information about each data point. The **target variable**, `'MEDV'`, will be the variable we seek to predict. These are stored in `features` and `prices`, respectively."
      ]
    },
    {
      "cell_type": "markdown",
      "metadata": {
        "id": "LppYU1Pr6Qff",
        "colab_type": "text"
      },
      "source": [
        "### Implementation: Calculate Statistics\n",
        "For your very first coding implementation, you will calculate descriptive statistics about the Boston housing prices. Since `numpy` has already been imported for you, use this library to perform the necessary calculations. These statistics will be extremely important later on to analyze various prediction results from the constructed model.\n",
        "\n",
        "In the code cell below, you will need to implement the following:\n",
        "- Calculate the minimum, maximum, mean, median, and standard deviation of `'MEDV'`, which is stored in `prices`.\n",
        "  - Store each calculation in their respective variable."
      ]
    },
    {
      "cell_type": "code",
      "metadata": {
        "id": "QB5yK2Gu6Qfg",
        "colab_type": "code",
        "outputId": "cd93ecf0-ffb1-4ece-f26c-a375fdecff87",
        "colab": {
          "base_uri": "https://localhost:8080/",
          "height": 136
        }
      },
      "source": [
        "# TODO: Minimum price of the data\n",
        "minimum_price = np.min(prices)\n",
        "\n",
        "# TODO: Maximum price of the data\n",
        "maximum_price = np.max(prices)\n",
        "\n",
        "# TODO: Mean price of the data\n",
        "mean_price = np.mean(prices)\n",
        "\n",
        "# TODO: Median price of the data\n",
        "median_price = np.median(prices)\n",
        "\n",
        "# TODO: Standard deviation of prices of the data\n",
        "std_price = np.std(prices)\n",
        "\n",
        "# Show the calculated statistics\n",
        "print(\"Statistics for Boston housing dataset:\\n\")\n",
        "print(\"Minimum price: ${}\".format(minimum_price)) \n",
        "print(\"Maximum price: ${}\".format(maximum_price))\n",
        "print(\"Mean price: ${}\".format(mean_price))\n",
        "print(\"Median price ${}\".format(median_price))\n",
        "print(\"Standard deviation of prices: ${}\".format(std_price))"
      ],
      "execution_count": 0,
      "outputs": [
        {
          "output_type": "stream",
          "text": [
            "Statistics for Boston housing dataset:\n",
            "\n",
            "Minimum price: $105000.0\n",
            "Maximum price: $1024800.0\n",
            "Mean price: $454342.9447852761\n",
            "Median price $438900.0\n",
            "Standard deviation of prices: $165171.13154429477\n"
          ],
          "name": "stdout"
        }
      ]
    },
    {
      "cell_type": "code",
      "metadata": {
        "id": "LE5sYz2SBZyy",
        "colab_type": "code",
        "outputId": "b79efe26-2215-44e7-a05d-8bfbfe298d13",
        "colab": {
          "base_uri": "https://localhost:8080/",
          "height": 173
        }
      },
      "source": [
        "data.corr()"
      ],
      "execution_count": 0,
      "outputs": [
        {
          "output_type": "execute_result",
          "data": {
            "text/html": [
              "<div>\n",
              "<style scoped>\n",
              "    .dataframe tbody tr th:only-of-type {\n",
              "        vertical-align: middle;\n",
              "    }\n",
              "\n",
              "    .dataframe tbody tr th {\n",
              "        vertical-align: top;\n",
              "    }\n",
              "\n",
              "    .dataframe thead th {\n",
              "        text-align: right;\n",
              "    }\n",
              "</style>\n",
              "<table border=\"1\" class=\"dataframe\">\n",
              "  <thead>\n",
              "    <tr style=\"text-align: right;\">\n",
              "      <th></th>\n",
              "      <th>RM</th>\n",
              "      <th>LSTAT</th>\n",
              "      <th>PTRATIO</th>\n",
              "      <th>MEDV</th>\n",
              "    </tr>\n",
              "  </thead>\n",
              "  <tbody>\n",
              "    <tr>\n",
              "      <th>RM</th>\n",
              "      <td>1.000000</td>\n",
              "      <td>-0.612033</td>\n",
              "      <td>-0.304559</td>\n",
              "      <td>0.697209</td>\n",
              "    </tr>\n",
              "    <tr>\n",
              "      <th>LSTAT</th>\n",
              "      <td>-0.612033</td>\n",
              "      <td>1.000000</td>\n",
              "      <td>0.360445</td>\n",
              "      <td>-0.760670</td>\n",
              "    </tr>\n",
              "    <tr>\n",
              "      <th>PTRATIO</th>\n",
              "      <td>-0.304559</td>\n",
              "      <td>0.360445</td>\n",
              "      <td>1.000000</td>\n",
              "      <td>-0.519034</td>\n",
              "    </tr>\n",
              "    <tr>\n",
              "      <th>MEDV</th>\n",
              "      <td>0.697209</td>\n",
              "      <td>-0.760670</td>\n",
              "      <td>-0.519034</td>\n",
              "      <td>1.000000</td>\n",
              "    </tr>\n",
              "  </tbody>\n",
              "</table>\n",
              "</div>"
            ],
            "text/plain": [
              "               RM     LSTAT   PTRATIO      MEDV\n",
              "RM       1.000000 -0.612033 -0.304559  0.697209\n",
              "LSTAT   -0.612033  1.000000  0.360445 -0.760670\n",
              "PTRATIO -0.304559  0.360445  1.000000 -0.519034\n",
              "MEDV     0.697209 -0.760670 -0.519034  1.000000"
            ]
          },
          "metadata": {
            "tags": []
          },
          "execution_count": 11
        }
      ]
    },
    {
      "cell_type": "markdown",
      "metadata": {
        "id": "tsGz1hFU6Qf6",
        "colab_type": "text"
      },
      "source": [
        "### Question 1 - Feature Observation\n",
        "As a reminder, we are using three features from the Boston housing dataset: `'RM'`, `'LSTAT'`, and `'PTRATIO'`. For each data point (neighborhood):\n",
        "- `'RM'` is the average number of rooms among homes in the neighborhood.\n",
        "- `'LSTAT'` is the percentage of homeowners in the neighborhood considered \"lower class\" (working poor).\n",
        "- `'PTRATIO'` is the ratio of students to teachers in primary and secondary schools in the neighborhood.\n",
        "\n",
        "\n",
        "Using your intuition, for each of the three features above, do you think that an **increase** in the value of that feature would lead to an **increase** in the value of `'MEDV'` or a **decrease** in the value of `'MEDV'`? Justify your answer for each.**\n",
        "\n",
        "**Hint:** This problem can phrased using examples like below.  \n",
        "* Would you expect a home that has an `'RM'` value(number of rooms) of 6 be worth more or less than a home that has an `'RM'` value of 7?\n",
        "* Would you expect a neighborhood that has an `'LSTAT'` value(percent of lower class workers) of 15 have home prices be worth more or less than a neighborhood that has an `'LSTAT'` value of 20?\n",
        "* Would you expect a neighborhood that has an `'PTRATIO'` value(ratio of students to teachers) of 10 have home prices be worth more or less than a neighborhood that has an `'PTRATIO'` value of 15?"
      ]
    },
    {
      "cell_type": "markdown",
      "metadata": {
        "id": "_LC1W0y46Qf8",
        "colab_type": "text"
      },
      "source": [
        "- **Price** is directly proprotional to **RM**\n",
        "- **Price** is inversly proportional to **LSTAT**\n",
        "- **Price** is inversly proportional to **PTRATIO**"
      ]
    },
    {
      "cell_type": "markdown",
      "metadata": {
        "id": "om1K9wu06Qf9",
        "colab_type": "text"
      },
      "source": [
        "----\n",
        "\n",
        "## Developing a Model\n",
        "In this second section of the project, you will develop the tools and techniques necessary for a model to make a prediction. Being able to make accurate evaluations of each model's performance through the use of these tools and techniques helps to greatly reinforce the confidence in your predictions."
      ]
    },
    {
      "cell_type": "markdown",
      "metadata": {
        "id": "fqHMrkA46Qf-",
        "colab_type": "text"
      },
      "source": [
        "### Implementation: Define a Performance Metric\n",
        "It is difficult to measure the quality of a given model without quantifying its performance over training and testing. This is typically done using some type of performance metric, whether it is through calculating some type of error, the goodness of fit, or some other useful measurement. For this project, you will be calculating the [*coefficient of determination*](http://stattrek.com/statistics/dictionary.aspx?definition=coefficient_of_determination), R<sup>2</sup>, to quantify your model's performance. The coefficient of determination for a model is a useful statistic in regression analysis, as it often describes how \"good\" that model is at making predictions. \n",
        "\n",
        "The values for R<sup>2</sup> range from 0 to 1, which captures the percentage of squared correlation between the predicted and actual values of the **target variable**. A model with an R<sup>2</sup> of 0 is no better than a model that always predicts the *mean* of the target variable, whereas a model with an R<sup>2</sup> of 1 perfectly predicts the target variable. Any value between 0 and 1 indicates what percentage of the target variable, using this model, can be explained by the **features**. _A model can be given a negative R<sup>2</sup> as well, which indicates that the model is **arbitrarily worse** than one that always predicts the mean of the target variable._\n",
        "\n",
        "For the `performance_metric` function in the code cell below, you will need to implement the following:\n",
        "- Use `r2_score` from `sklearn.metrics` to perform a performance calculation between `y_true` and `y_predict`.\n",
        "- Assign the performance score to the `score` variable."
      ]
    },
    {
      "cell_type": "code",
      "metadata": {
        "id": "4KlYAGti6Qf_",
        "colab_type": "code",
        "colab": {}
      },
      "source": [
        "# TODO: Import 'r2_score'\n",
        "from sklearn.metrics import r2_score\n",
        "def performance_metric(y_true, y_predict):\n",
        "    \"\"\" Calculates and returns the performance score between \n",
        "        true and predicted values based on the metric chosen. \"\"\"\n",
        "    \n",
        "    # TODO: Calculate the performance score between 'y_true' and 'y_predict'\n",
        "    score = r2_score(y_true, y_predict)\n",
        "    \n",
        "    # Return the score\n",
        "    return score"
      ],
      "execution_count": 0,
      "outputs": []
    },
    {
      "cell_type": "markdown",
      "metadata": {
        "id": "_6ozxxkG6QgB",
        "colab_type": "text"
      },
      "source": [
        "### Question 2 - Goodness of Fit\n",
        "Assume that a dataset contains five data points and a model made the following predictions for the target variable:\n",
        "\n",
        "| True Value | Prediction |\n",
        "| :-------------: | :--------: |\n",
        "| 3.0 | 2.5 |\n",
        "| -0.5 | 0.0 |\n",
        "| 2.0 | 2.1 |\n",
        "| 7.0 | 7.8 |\n",
        "| 4.2 | 5.3 |\n",
        "\n",
        "Run the code cell below to use the `performance_metric` function and calculate this model's coefficient of determination."
      ]
    },
    {
      "cell_type": "code",
      "metadata": {
        "colab_type": "code",
        "outputId": "cf74e0f1-b0c8-4810-afeb-0670f3976aba",
        "id": "xjN0LO7UEL-x",
        "colab": {
          "base_uri": "https://localhost:8080/",
          "height": 34
        }
      },
      "source": [
        "# Calculate the performance of this model\n",
        "score = performance_metric([3, -0.5, 2, 7, 4.2], [2.5, 0.0, 2.1, 7.8, 5.3])\n",
        "print(\"Model has a coefficient of determination, R^2, of {:.3f}.\".format(score))"
      ],
      "execution_count": 0,
      "outputs": [
        {
          "output_type": "stream",
          "text": [
            "Model has a coefficient of determination, R^2, of 0.923.\n"
          ],
          "name": "stdout"
        }
      ]
    },
    {
      "cell_type": "markdown",
      "metadata": {
        "id": "8KkpdgP-6QgF",
        "colab_type": "text"
      },
      "source": [
        "* Would you consider this model to have successfully captured the variation of the target variable? \n",
        "* Why or why not?\n",
        "\n",
        "** Hint: **  The R2 score is the proportion of the variance in the dependent variable that is predictable from the independent variable. In other words:\n",
        "* R2 score of 0 means that the dependent variable cannot be predicted from the independent variable.\n",
        "* R2 score of 1 means the dependent variable can be predicted from the independent variable.\n",
        "* R2 score between 0 and 1 indicates the extent to which the dependent variable is predictable. An \n",
        "* R2 score of 0.40 means that 40 percent of the variance in Y is predictable from X."
      ]
    },
    {
      "cell_type": "markdown",
      "metadata": {
        "id": "3Ttj57eP6QgF",
        "colab_type": "text"
      },
      "source": [
        "**Answer:**"
      ]
    },
    {
      "cell_type": "markdown",
      "metadata": {
        "id": "RHgPItFW6QgG",
        "colab_type": "text"
      },
      "source": [
        "### Implementation: Shuffle and Split Data\n",
        "Your next implementation requires that you take the Boston housing dataset and split the data into training and testing subsets. Typically, the data is also shuffled into a random order when creating the training and testing subsets to remove any bias in the ordering of the dataset.\n",
        "\n",
        "For the code cell below, you will need to implement the following:\n",
        "- Use `train_test_split` from `sklearn.model_selection` to shuffle and split the `features` and `prices` data into training and testing sets.\n",
        "  - Split the data into 80% training and 20% testing.\n",
        "  - Set the `random_state` for `train_test_split` to a value of your choice. This ensures results are consistent.\n",
        "- Assign the train and testing splits to `X_train`, `X_test`, `y_train`, and `y_test`."
      ]
    },
    {
      "cell_type": "code",
      "metadata": {
        "id": "758KJIaY6QgH",
        "colab_type": "code",
        "outputId": "f12cf533-e568-4407-c39b-77da87b00f76",
        "colab": {
          "base_uri": "https://localhost:8080/",
          "height": 34
        }
      },
      "source": [
        "# TODO: Import 'train_test_split'\n",
        "from sklearn.model_selection import train_test_split\n",
        "# TODO: Shuffle and split the data into training and testing subsets\n",
        "X_train, X_test, y_train, y_test = train_test_split(features, prices, test_size =.2, random_state = 0)\n",
        "\n",
        "# Success\n",
        "print(\"Training and testing split was successful.\")"
      ],
      "execution_count": 6,
      "outputs": [
        {
          "output_type": "stream",
          "text": [
            "Training and testing split was successful.\n"
          ],
          "name": "stdout"
        }
      ]
    },
    {
      "cell_type": "markdown",
      "metadata": {
        "id": "FBaKOoMl6QgK",
        "colab_type": "text"
      },
      "source": [
        "### Question 3 - Training and Testing\n",
        "\n",
        "* What is the benefit to splitting a dataset into some ratio of training and testing subsets for a learning algorithm?\n",
        "\n",
        "**Hint:** Think about how overfitting or underfitting is contingent upon how splits on data is done."
      ]
    },
    {
      "cell_type": "markdown",
      "metadata": {
        "id": "bo23bSHS6QgM",
        "colab_type": "text"
      },
      "source": [
        "splitting the data into training and testing helps us to determine the quality of our model like overfitting, underfitting and it helps us to examine our model"
      ]
    },
    {
      "cell_type": "markdown",
      "metadata": {
        "id": "-1WMR_IS6QgM",
        "colab_type": "text"
      },
      "source": [
        "----\n",
        "\n",
        "## Analyzing Model Performance\n",
        "In this third section of the project, you'll take a look at several models' learning and testing performances on various subsets of training data. Additionally, you'll investigate one particular algorithm with an increasing `'max_depth'` parameter on the full training set to observe how model complexity affects performance. Graphing your model's performance based on varying criteria can be beneficial in the analysis process, such as visualizing behavior that may not have been apparent from the results alone."
      ]
    },
    {
      "cell_type": "markdown",
      "metadata": {
        "id": "-B7GdII96QgN",
        "colab_type": "text"
      },
      "source": [
        "### Learning Curves\n",
        "The following code cell produces four graphs for a decision tree model with different maximum depths. Each graph visualizes the learning curves of the model for both training and testing as the size of the training set is increased. Note that the shaded region of a learning curve denotes the uncertainty of that curve (measured as the standard deviation). The model is scored on both the training and testing sets using R<sup>2</sup>, the coefficient of determination.  \n",
        "\n",
        "Run the code cell below and use these graphs to answer the following question."
      ]
    },
    {
      "cell_type": "code",
      "metadata": {
        "scrolled": false,
        "id": "0nmGffLw6QgO",
        "colab_type": "code",
        "outputId": "a2da1fbb-6bc9-458f-a9ee-ee888aa2c124",
        "colab": {
          "base_uri": "https://localhost:8080/",
          "height": 539
        }
      },
      "source": [
        "# Produce learning curves for varying training set sizes and maximum depths\n",
        "vs.ModelLearning(features, prices)"
      ],
      "execution_count": 0,
      "outputs": [
        {
          "output_type": "display_data",
          "data": {
            "image/png": "[encoded data removed]",
            "text/plain": [
              "<Figure size 720x504 with 4 Axes>"
            ]
          },
          "metadata": {
            "tags": []
          }
        }
      ]
    },
    {
      "cell_type": "markdown",
      "metadata": {
        "id": "C6Juo48d6QgR",
        "colab_type": "text"
      },
      "source": [
        "### Question 4 - Learning the Data\n",
        "* Choose one of the graphs above and state the maximum depth for the model. \n",
        "* What happens to the score of the training curve as more training points are added? What about the testing curve? \n",
        "* Would having more training points benefit the model? \n",
        "\n",
        "**Hint:** Are the learning curves converging to particular scores? Generally speaking, the more data you have, the better. But if your training and testing curves are converging with a score above your benchmark threshold, would this be necessary?\n",
        "Think about the pros and cons of adding more training points based on if the training and testing curves are converging."
      ]
    },
    {
      "cell_type": "markdown",
      "metadata": {
        "id": "nnUByyqD6QgS",
        "colab_type": "text"
      },
      "source": [
        "**Best Model is with Max Depth equals 3**\n",
        "When we add more training points then the model more complex and training score will be increased but the testing score remains the same\n"
      ]
    },
    {
      "cell_type": "markdown",
      "metadata": {
        "id": "p3C8XiSR6QgS",
        "colab_type": "text"
      },
      "source": [
        "### Complexity Curves\n",
        "The following code cell produces a graph for a decision tree model that has been trained and validated on the training data using different maximum depths. The graph produces two complexity curves — one for training and one for validation. Similar to the **learning curves**, the shaded regions of both the complexity curves denote the uncertainty in those curves, and the model is scored on both the training and validation sets using the `performance_metric` function.  \n",
        "\n",
        "** Run the code cell below and use this graph to answer the following two questions Q5 and Q6. **"
      ]
    },
    {
      "cell_type": "code",
      "metadata": {
        "id": "2n0_cjLx6QgT",
        "colab_type": "code",
        "colab": {
          "base_uri": "https://localhost:8080/",
          "height": 350
        },
        "outputId": "a07147a5-f13c-4097-8809-da8e83c84bc6"
      },
      "source": [
        "vs.ModelComplexity(X_train, y_train)"
      ],
      "execution_count": 7,
      "outputs": [
        {
          "output_type": "display_data",
          "data": {
            "image/png": "[encoded data removed]",
            "text/plain": [
              "<Figure size 504x360 with 1 Axes>"
            ]
          },
          "metadata": {
            "tags": []
          }
        }
      ]
    },
    {
      "cell_type": "markdown",
      "metadata": {
        "id": "54hatA8f6QgV",
        "colab_type": "text"
      },
      "source": [
        "### Question 5 - Bias-Variance Tradeoff\n",
        "* When the model is trained with a maximum depth of 1, does the model suffer from high bias or from high variance? \n",
        "* How about when the model is trained with a maximum depth of 10? What visual cues in the graph justify your conclusions?\n",
        "\n",
        "**Hint:** High bias is a sign of underfitting(model is not complex enough to pick up the nuances in the data) and high variance is a sign of overfitting(model is by-hearting the data and cannot generalize well). Think about which model(depth 1 or 10) aligns with which part of the tradeoff."
      ]
    },
    {
      "cell_type": "markdown",
      "metadata": {
        "id": "8-ub8-iB6QgW",
        "colab_type": "text"
      },
      "source": [
        "- **when max depth is one then the model suffer from high bias which means high residuals**\n",
        "\n",
        "- **when max depth is 10 then the model suffer from high variance which means more complexity so the training error is less and test error is more which implies overfitting of model**"
      ]
    },
    {
      "cell_type": "markdown",
      "metadata": {
        "id": "yl2lsfKZ6QgW",
        "colab_type": "text"
      },
      "source": [
        "### Question 6 - Best-Guess Optimal Model\n",
        "* Which maximum depth do you think results in a model that best generalizes to unseen data? \n",
        "* What intuition lead you to this answer?\n",
        "\n",
        "** Hint: ** Look at the graph above Question 5 and see where the validation scores lie for the various depths that have been assigned to the model. Does it get better with increased depth? At what point do we get our best validation score without overcomplicating our model? And remember, Occams Razor states \"Among competing hypotheses, the one with the fewest assumptions should be selected.\""
      ]
    },
    {
      "cell_type": "markdown",
      "metadata": {
        "id": "bckSugJj6QgX",
        "colab_type": "text"
      },
      "source": [
        "**Answer:**\n",
        "- **The optimal number of max depth for this model is 4**\n",
        "- **The intuition behind this is at max depth equals 4 model is at best fit level after this max depth test score is decreasing and the train score is increasing rapidly**\n",
        "- **So the optimal model is as max depth of 4**"
      ]
    },
    {
      "cell_type": "markdown",
      "metadata": {
        "id": "-9-D6ARU6QgY",
        "colab_type": "text"
      },
      "source": [
        "-----\n",
        "\n",
        "## Evaluating Model Performance\n",
        "In this final section of the project, you will construct a model and make a prediction on the client's feature set using an optimized model from `fit_model`."
      ]
    },
    {
      "cell_type": "markdown",
      "metadata": {
        "id": "TsGRklmA6QgY",
        "colab_type": "text"
      },
      "source": [
        "### Question 7 - Grid Search\n",
        "* What is the grid search technique?\n",
        "* How it can be applied to optimize a learning algorithm?\n",
        "\n",
        "** Hint: ** When explaining the Grid Search technique, be sure to touch upon why it is used,  what the 'grid' entails and what the end goal of this method is. To solidify your answer, you can also give an example of a parameter in a model that can be optimized using this approach."
      ]
    },
    {
      "cell_type": "markdown",
      "metadata": {
        "id": "zmOOL9sn6QgZ",
        "colab_type": "text"
      },
      "source": [
        "**Answer:**\n",
        "-**GridSearch is used to train the model with multiple parameters with different values of those parameters such that we can check the optimal model by finding the best parameters for our model**\n"
      ]
    },
    {
      "cell_type": "markdown",
      "metadata": {
        "id": "zk70wTg66Qga",
        "colab_type": "text"
      },
      "source": [
        "### Question 8 - Cross-Validation\n",
        "\n",
        "* What is the k-fold cross-validation training technique? \n",
        "\n",
        "* What benefit does this technique provide for grid search when optimizing a model?\n",
        "\n",
        "**Hint:** When explaining the k-fold cross validation technique, be sure to touch upon what 'k' is, how the dataset is split into different parts for training and testing and the number of times it is run based on the 'k' value.\n",
        "\n",
        "When thinking about how k-fold cross validation helps grid search, think about the main drawbacks of grid search which are hinged upon **using a particular subset of data for training or testing** and how k-fold cv could help alleviate that. You can refer to the [docs](http://scikit-learn.org/stable/modules/cross_validation.html#cross-validation) for your answer."
      ]
    },
    {
      "cell_type": "markdown",
      "metadata": {
        "id": "NvtYFIES6Qga",
        "colab_type": "text"
      },
      "source": [
        "**Answer:**\n",
        "-**K-Fold cross validation is a method to split the data into k-fold which helps us to optimize the model better**\n",
        "-**K-Fold cross validation first split the data into k-fold then chose one set for testing purpose and the other sets for training purpose which helps us to determing the model better because sometime with the one fold the problem is that the all optimal features lies in the training or testing set such that we can't get to the best model**"
      ]
    },
    {
      "cell_type": "markdown",
      "metadata": {
        "id": "lc7vhsL_6Qgb",
        "colab_type": "text"
      },
      "source": [
        "### Implementation: Fitting a Model\n",
        "Your final implementation requires that you bring everything together and train a model using the **decision tree algorithm**. To ensure that you are producing an optimized model, you will train the model using the grid search technique to optimize the `'max_depth'` parameter for the decision tree. The `'max_depth'` parameter can be thought of as how many questions the decision tree algorithm is allowed to ask about the data before making a prediction. Decision trees are part of a class of algorithms called *supervised learning algorithms*.\n",
        "\n",
        "In addition, you will find your implementation is using `ShuffleSplit()` for an alternative form of cross-validation (see the `'cv_sets'` variable). While it is not the K-Fold cross-validation technique you describe in **Question 8**, this type of cross-validation technique is just as useful!. The `ShuffleSplit()` implementation below will create 10 (`'n_splits'`) shuffled sets, and for each shuffle, 20% (`'test_size'`) of the data will be used as the *validation set*. While you're working on your implementation, think about the contrasts and similarities it has to the K-fold cross-validation technique.\n",
        "\n",
        "For the `fit_model` function in the code cell below, you will need to implement the following:\n",
        "- Use [`DecisionTreeRegressor`](http://scikit-learn.org/stable/modules/generated/sklearn.tree.DecisionTreeRegressor.html) from `sklearn.tree` to create a decision tree regressor object.\n",
        "  - Assign this object to the `'regressor'` variable.\n",
        "- Create a dictionary for `'max_depth'` with the values from 1 to 10, and assign this to the `'params'` variable.\n",
        "- Use [`make_scorer`](http://scikit-learn.org/stable/modules/generated/sklearn.metrics.make_scorer.html) from `sklearn.metrics` to create a scoring function object.\n",
        "  - Pass the `performance_metric` function as a parameter to the object.\n",
        "  - Assign this scoring function to the `'scoring_fnc'` variable.\n",
        "- Use [`GridSearchCV`](http://scikit-learn.org/0.20/modules/generated/sklearn.model_selection.GridSearchCV.html) from `sklearn.model_selection` to create a grid search object.\n",
        "  - Pass the variables `'regressor'`, `'params'`, `'scoring_fnc'`, and `'cv_sets'` as parameters to the object. \n",
        "  - Assign the `GridSearchCV` object to the `'grid'` variable."
      ]
    },
    {
      "cell_type": "code",
      "metadata": {
        "id": "7d7A5JNjjJYB",
        "colab_type": "code",
        "colab": {}
      },
      "source": [
        "from sklearn.tree import DecisionTreeRegressor\n",
        "from sklearn.metrics import make_scorer\n",
        "from sklearn.model_selection import GridSearchCV"
      ],
      "execution_count": 0,
      "outputs": []
    },
    {
      "cell_type": "code",
      "metadata": {
        "id": "u66acv1O6Qgc",
        "colab_type": "code",
        "colab": {}
      },
      "source": [
        "# TODO: Import 'make_scorer', 'DecisionTreeRegressor', and 'GridSearchCV'\n",
        "from sklearn.tree import DecisionTreeRegressor\n",
        "from sklearn.metrics import make_scorer\n",
        "from sklearn.model_selection import GridSearchCV\n",
        "def fit_model(X, y):\n",
        "    \"\"\" Performs grid search over the 'max_depth' parameter for a \n",
        "        decision tree regressor trained on the input data [X, y]. \"\"\"\n",
        "    \n",
        "    # Create cross-validation sets from the training data\n",
        "    cv_sets = ShuffleSplit(n_splits = 10, test_size = 0.20, random_state = 0)\n",
        "\n",
        "    # TODO: Create a decision tree regressor object\n",
        "    regressor = DecisionTreeRegressor()\n",
        "\n",
        "    # TODO: Create a dictionary for the parameter 'max_depth' with a range from 1 to 10\n",
        "    params = {'max_depth':list(range(1, 11))}\n",
        "\n",
        "    # TODO: Transform 'performance_metric' into a scoring function using 'make_scorer'\n",
        "\n",
        "    # TODO: Create the grid search cv object --> GridSearchCV()\n",
        "    # Make sure to include the right parameters in the object:\n",
        "    # (estimator, param_grid, scoring, cv) which have values 'regressor', 'params', 'scoring_fnc', and 'cv_sets' respectively.\n",
        "    grid = GridSearchCV(param_grid = params, estimator = regressor, cv = cv_sets)\n",
        "\n",
        "    # Fit the grid search object to the data to compute the optimal model\n",
        "    grid = grid.fit(X, y)\n",
        "\n",
        "    # Return the optimal model after fitting the data\n",
        "    return grid.best_estimator_"
      ],
      "execution_count": 0,
      "outputs": []
    },
    {
      "cell_type": "markdown",
      "metadata": {
        "id": "AmWEOa736Qge",
        "colab_type": "text"
      },
      "source": [
        "### Making Predictions\n",
        "Once a model has been trained on a given set of data, it can now be used to make predictions on new sets of input data. In the case of a *decision tree regressor*, the model has learned *what the best questions to ask about the input data are*, and can respond with a prediction for the **target variable**. You can use these predictions to gain information about data where the value of the target variable is unknown — such as data the model was not trained on."
      ]
    },
    {
      "cell_type": "markdown",
      "metadata": {
        "id": "nEBfDQGC6Qgf",
        "colab_type": "text"
      },
      "source": [
        "### Question 9 - Optimal Model\n",
        "\n",
        "* What maximum depth does the optimal model have? How does this result compare to your guess in **Question 6**?  \n",
        "\n",
        "Run the code block below to fit the decision tree regressor to the training data and produce an optimal model."
      ]
    },
    {
      "cell_type": "code",
      "metadata": {
        "scrolled": true,
        "id": "IKtkZ1B76Qgf",
        "colab_type": "code",
        "colab": {
          "base_uri": "https://localhost:8080/",
          "height": 34
        },
        "outputId": "42e21276-fd2f-4a84-9f02-b54e70eda1c8"
      },
      "source": [
        "# Fit the training data to the model using grid search\n",
        "reg = fit_model(X_train, y_train)\n",
        "\n",
        "# Produce the value for 'max_depth'\n",
        "print(\"Parameter 'max_depth' is {} for the optimal model.\".format(reg.get_params()['max_depth']))"
      ],
      "execution_count": 19,
      "outputs": [
        {
          "output_type": "stream",
          "text": [
            "Parameter 'max_depth' is 4 for the optimal model.\n"
          ],
          "name": "stdout"
        }
      ]
    },
    {
      "cell_type": "markdown",
      "metadata": {
        "id": "ya0Za69E6Qgi",
        "colab_type": "text"
      },
      "source": [
        "**Hint:** The answer comes from the output of the code snipped above.\n",
        "\n",
        "**Answer:**\n",
        "\n",
        "-**Parameter 'max_depth' is 4 for the optimal model.**"
      ]
    },
    {
      "cell_type": "markdown",
      "metadata": {
        "id": "TlttVDDi6Qgi",
        "colab_type": "text"
      },
      "source": [
        "### Question 10 - Predicting Selling Prices\n",
        "Imagine that you were a real estate agent in the Boston area looking to use this model to help price homes owned by your clients that they wish to sell. You have collected the following information from three of your clients:\n",
        "\n",
        "| Feature | Client 1 | Client 2 | Client 3 |\n",
        "| :---: | :---: | :---: | :---: |\n",
        "| Total number of rooms in home | 5 rooms | 4 rooms | 8 rooms |\n",
        "| Neighborhood poverty level (as %) | 17% | 32% | 3% |\n",
        "| Student-teacher ratio of nearby schools | 15-to-1 | 22-to-1 | 12-to-1 |\n",
        "\n",
        "* What price would you recommend each client sell his/her home at? \n",
        "* Do these prices seem reasonable given the values for the respective features? \n",
        "\n",
        "**Hint:** Use the statistics you calculated in the **Data Exploration** section to help justify your response.  Of the three clients, client 3 has has the biggest house, in the best public school neighborhood with the lowest poverty level; while client 2 has the smallest house, in a neighborhood with a relatively high poverty rate and not the best public schools.\n",
        "\n",
        "Run the code block below to have your optimized model make predictions for each client's home."
      ]
    },
    {
      "cell_type": "code",
      "metadata": {
        "id": "uE28xNa26Qgj",
        "colab_type": "code",
        "colab": {
          "base_uri": "https://localhost:8080/",
          "height": 68
        },
        "outputId": "50c8cf76-1e6a-4651-8d2e-71e6c5c1e990"
      },
      "source": [
        "# Produce a matrix for client data\n",
        "client_data = [[5, 17, 15], # Client 1\n",
        "               [4, 32, 22], # Client 2\n",
        "               [8, 3, 12]]  # Client 3\n",
        "\n",
        "# Show predictions\n",
        "for i, price in enumerate(reg.predict(client_data)):\n",
        "    print(\"Predicted selling price for Client {}'s home: ${:,.2f}\".format(i+1, price))"
      ],
      "execution_count": 20,
      "outputs": [
        {
          "output_type": "stream",
          "text": [
            "Predicted selling price for Client 1's home: $391,183.33\n",
            "Predicted selling price for Client 2's home: $189,123.53\n",
            "Predicted selling price for Client 3's home: $942,666.67\n"
          ],
          "name": "stdout"
        }
      ]
    },
    {
      "cell_type": "markdown",
      "metadata": {
        "id": "FLIlxZen6Qgo",
        "colab_type": "text"
      },
      "source": [
        "**Answer: **"
      ]
    },
    {
      "cell_type": "markdown",
      "metadata": {
        "id": "qXka81gT6Qgp",
        "colab_type": "text"
      },
      "source": [
        "### Sensitivity\n",
        "An optimal model is not necessarily a robust model. Sometimes, a model is either too complex or too simple to sufficiently generalize to new data. Sometimes, a model could use a learning algorithm that is not appropriate for the structure of the data given. Other times, the data itself could be too noisy or contain too few samples to allow a model to adequately capture the target variable — i.e., the model is underfitted. \n",
        "\n",
        "**Run the code cell below to run the `fit_model` function ten times with different training and testing sets to see how the prediction for a specific client changes with respect to the data it's trained on.**"
      ]
    },
    {
      "cell_type": "code",
      "metadata": {
        "id": "RhF9UOBg6Qgr",
        "colab_type": "code",
        "colab": {
          "base_uri": "https://localhost:8080/",
          "height": 221
        },
        "outputId": "41ca3c19-64a3-40cd-eb12-e6d6b1583c9e"
      },
      "source": [
        "vs.PredictTrials(features, prices, fit_model, client_data)"
      ],
      "execution_count": 21,
      "outputs": [
        {
          "output_type": "stream",
          "text": [
            "Trial 1: $391,183.33\n",
            "Trial 2: $419,700.00\n",
            "Trial 3: $415,800.00\n",
            "Trial 4: $420,622.22\n",
            "Trial 5: $418,377.27\n",
            "Trial 6: $411,931.58\n",
            "Trial 7: $399,663.16\n",
            "Trial 8: $407,232.00\n",
            "Trial 9: $351,577.61\n",
            "Trial 10: $413,700.00\n",
            "\n",
            "Range in prices: $69,044.61\n"
          ],
          "name": "stdout"
        }
      ]
    },
    {
      "cell_type": "markdown",
      "metadata": {
        "id": "CU6ZQH1j6Qgt",
        "colab_type": "text"
      },
      "source": [
        "### Question 11 - Applicability\n",
        "\n",
        "* In a few sentences, discuss whether the constructed model should or should not be used in a real-world setting.  \n",
        "\n",
        "**Hint:** Take a look at the range in prices as calculated in the code snippet above. Some questions to answering:\n",
        "- How relevant today is data that was collected from 1978? How important is inflation?\n",
        "- Are the features present in the data sufficient to describe a home? Do you think factors like quality of apppliances in the home, square feet of the plot area, presence of pool or not etc should factor in?\n",
        "- Is the model robust enough to make consistent predictions?\n",
        "- Would data collected in an urban city like Boston be applicable in a rural city?\n",
        "- Is it fair to judge the price of an individual home based on the characteristics of the entire neighborhood?"
      ]
    },
    {
      "cell_type": "markdown",
      "metadata": {
        "id": "IkjpeI1H6Qgu",
        "colab_type": "text"
      },
      "source": [
        "**Answer: **"
      ]
    },
    {
      "cell_type": "markdown",
      "metadata": {
        "id": "-U54sP8g6Qgu",
        "colab_type": "text"
      },
      "source": [
        "> **Note**: Once you have completed all of the code implementations and successfully answered each question above, you may finalize your work by exporting the iPython Notebook as an HTML document. You can do this by using the menu above and navigating to  \n",
        "**File -> Download as -> HTML (.html)**. Include the finished document along with this notebook as your submission."
      ]
    }
  ]
}